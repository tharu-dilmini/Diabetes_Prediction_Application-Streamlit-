{
  "cells": [
    {
      "cell_type": "markdown",
      "metadata": {
        "id": "3blaG0Xl1_wI"
      },
      "source": [
        "model_training"
      ]
    },
    {
      "cell_type": "code",
      "execution_count": null,
      "metadata": {
        "id": "dy5zsF18ywuM"
      },
      "outputs": [],
      "source": [
        "import pandas as pd\n",
        "import numpy as np\n",
        "from sklearn.model_selection import train_test_split, cross_val_score, GridSearchCV\n",
        "from sklearn.preprocessing import StandardScaler\n",
        "from sklearn.impute import SimpleImputer\n",
        "from sklearn.linear_model import LogisticRegression\n",
        "from sklearn.ensemble import RandomForestClassifier\n",
        "from sklearn.svm import SVC\n",
        "from sklearn.metrics import accuracy_score, classification_report, confusion_matrix\n",
        "import pickle\n",
        "import joblib"
      ]
    },
    {
      "cell_type": "markdown",
      "metadata": {
        "id": "2s5fVBwu2FYH"
      },
      "source": [
        "1. Load data"
      ]
    },
    {
      "cell_type": "code",
      "execution_count": null,
      "metadata": {
        "colab": {
          "base_uri": "https://localhost:8080/"
        },
        "id": "isM3P8E509Zy",
        "outputId": "70ba2e3f-02e5-4482-d8e6-efd0222607bc"
      },
      "outputs": [
        {
          "name": "stdout",
          "output_type": "stream",
          "text": [
            "Loaded dataset with shape: (768, 9)\n"
          ]
        }
      ],
      "source": [
        "df = pd.read_csv('C:\\Users\\User\\Desktop\\Sreamlit 2\\data\\diabetes.csv')\n",
        "print('Loaded dataset with shape:', df.shape)"
      ]
    },
    {
      "cell_type": "markdown",
      "metadata": {
        "id": "1DkSTIhT2J84"
      },
      "source": [
        "2. Basic EDA (prints)"
      ]
    },
    {
      "cell_type": "code",
      "execution_count": 4,
      "metadata": {
        "colab": {
          "base_uri": "https://localhost:8080/"
        },
        "id": "V69QD-ox1ERB",
        "outputId": "075f32bc-143f-4f21-bc52-b1f1b17c0e7d"
      },
      "outputs": [
        {
          "name": "stdout",
          "output_type": "stream",
          "text": [
            "   Pregnancies  Glucose  BloodPressure  SkinThickness  Insulin   BMI  \\\n",
            "0            6      148             72             35        0  33.6   \n",
            "1            1       85             66             29        0  26.6   \n",
            "2            8      183             64              0        0  23.3   \n",
            "3            1       89             66             23       94  28.1   \n",
            "4            0      137             40             35      168  43.1   \n",
            "\n",
            "   DiabetesPedigreeFunction  Age  Outcome  \n",
            "0                     0.627   50        1  \n",
            "1                     0.351   31        0  \n",
            "2                     0.672   32        1  \n",
            "3                     0.167   21        0  \n",
            "4                     2.288   33        1  \n"
          ]
        }
      ],
      "source": [
        "print(df.head())\n"
      ]
    },
    {
      "cell_type": "code",
      "execution_count": 5,
      "metadata": {
        "colab": {
          "base_uri": "https://localhost:8080/"
        },
        "id": "fCBRLpe_1WZ7",
        "outputId": "2295fafc-b2d0-4cb4-849c-4b871aee3e0b"
      },
      "outputs": [
        {
          "name": "stdout",
          "output_type": "stream",
          "text": [
            "       Pregnancies     Glucose  BloodPressure  SkinThickness     Insulin  \\\n",
            "count   768.000000  768.000000     768.000000     768.000000  768.000000   \n",
            "mean      3.845052  120.894531      69.105469      20.536458   79.799479   \n",
            "std       3.369578   31.972618      19.355807      15.952218  115.244002   \n",
            "min       0.000000    0.000000       0.000000       0.000000    0.000000   \n",
            "25%       1.000000   99.000000      62.000000       0.000000    0.000000   \n",
            "50%       3.000000  117.000000      72.000000      23.000000   30.500000   \n",
            "75%       6.000000  140.250000      80.000000      32.000000  127.250000   \n",
            "max      17.000000  199.000000     122.000000      99.000000  846.000000   \n",
            "\n",
            "              BMI  DiabetesPedigreeFunction         Age     Outcome  \n",
            "count  768.000000                768.000000  768.000000  768.000000  \n",
            "mean    31.992578                  0.471876   33.240885    0.348958  \n",
            "std      7.884160                  0.331329   11.760232    0.476951  \n",
            "min      0.000000                  0.078000   21.000000    0.000000  \n",
            "25%     27.300000                  0.243750   24.000000    0.000000  \n",
            "50%     32.000000                  0.372500   29.000000    0.000000  \n",
            "75%     36.600000                  0.626250   41.000000    1.000000  \n",
            "max     67.100000                  2.420000   81.000000    1.000000  \n"
          ]
        }
      ],
      "source": [
        "print(df.describe())"
      ]
    },
    {
      "cell_type": "code",
      "execution_count": 7,
      "metadata": {
        "colab": {
          "base_uri": "https://localhost:8080/"
        },
        "id": "eAKk9CHv1SCT",
        "outputId": "25c2a61d-1af5-45e2-88d4-bb1618e652e7"
      },
      "outputs": [
        {
          "name": "stdout",
          "output_type": "stream",
          "text": [
            "Missing values per column:\n",
            " Pregnancies                 0\n",
            "Glucose                     0\n",
            "BloodPressure               0\n",
            "SkinThickness               0\n",
            "Insulin                     0\n",
            "BMI                         0\n",
            "DiabetesPedigreeFunction    0\n",
            "Age                         0\n",
            "Outcome                     0\n",
            "dtype: int64\n"
          ]
        }
      ],
      "source": [
        "print('Missing values per column:\\n', df.isnull().sum())"
      ]
    },
    {
      "cell_type": "markdown",
      "metadata": {
        "id": "XA2n9VPl2Sc5"
      },
      "source": [
        "3. Replace zeros in specific columns with NaN (commonly done for Pima dataset)"
      ]
    },
    {
      "cell_type": "code",
      "execution_count": 8,
      "metadata": {
        "id": "8aJdlvPb1Lfp"
      },
      "outputs": [],
      "source": [
        "cols_with_zero = ['Glucose', 'BloodPressure', 'SkinThickness', 'Insulin', 'BMI']\n",
        "for col in cols_with_zero:\n",
        "    df[col] = df[col].replace(0, np.nan)\n"
      ]
    },
    {
      "cell_type": "markdown",
      "metadata": {
        "id": "Rew4pwNV2Z8z"
      },
      "source": [
        "4. Impute missing values with median"
      ]
    },
    {
      "cell_type": "code",
      "execution_count": 9,
      "metadata": {
        "id": "UooyfckH1f6F"
      },
      "outputs": [],
      "source": [
        "imputer = SimpleImputer(strategy='median')\n",
        "df[cols_with_zero] = imputer.fit_transform(df[cols_with_zero])"
      ]
    },
    {
      "cell_type": "markdown",
      "metadata": {
        "id": "Q4GtsfaQ2cA6"
      },
      "source": [
        "5. Features and target"
      ]
    },
    {
      "cell_type": "code",
      "execution_count": 10,
      "metadata": {
        "id": "V06dlGlN1jzU"
      },
      "outputs": [],
      "source": [
        "X = df.drop('Outcome', axis=1)\n",
        "y = df['Outcome']"
      ]
    },
    {
      "cell_type": "markdown",
      "metadata": {
        "id": "rw3Q26eT2luL"
      },
      "source": [
        "6. Train-test split"
      ]
    },
    {
      "cell_type": "code",
      "execution_count": 13,
      "metadata": {
        "id": "tHGthjmK1orF"
      },
      "outputs": [],
      "source": [
        "X_train, X_test, y_train, y_test = train_test_split(X, y, stratify=y, test_size=0.2, random_state=42)\n"
      ]
    },
    {
      "cell_type": "markdown",
      "metadata": {
        "id": "ls-TLNeR2pOD"
      },
      "source": [
        "7. Scale features"
      ]
    },
    {
      "cell_type": "code",
      "execution_count": 14,
      "metadata": {
        "id": "8Ec9_OF41vQO"
      },
      "outputs": [],
      "source": [
        "scaler = StandardScaler()\n",
        "X_train_scaled = scaler.fit_transform(X_train)\n",
        "X_test_scaled = scaler.transform(X_test)"
      ]
    },
    {
      "cell_type": "markdown",
      "metadata": {
        "id": "iJW_diWZ2qjr"
      },
      "source": [
        "8. Train models"
      ]
    },
    {
      "cell_type": "code",
      "execution_count": 16,
      "metadata": {
        "colab": {
          "base_uri": "https://localhost:8080/"
        },
        "id": "EA7Q8QIQ2t0l",
        "outputId": "e82e69b5-2bfa-4516-d1bd-eb6a592a7a8f"
      },
      "outputs": [
        {
          "name": "stdout",
          "output_type": "stream",
          "text": [
            "Training LogisticRegression...\n",
            "LogisticRegression CV accuracy: 0.7818 +/- 0.0125\n",
            "LogisticRegression Test accuracy: 0.7078\n",
            "              precision    recall  f1-score   support\n",
            "\n",
            "           0       0.75      0.82      0.78       100\n",
            "           1       0.60      0.50      0.55        54\n",
            "\n",
            "    accuracy                           0.71       154\n",
            "   macro avg       0.68      0.66      0.67       154\n",
            "weighted avg       0.70      0.71      0.70       154\n",
            "\n",
            "Training RandomForest...\n",
            "RandomForest CV accuracy: 0.7655 +/- 0.0379\n",
            "RandomForest Test accuracy: 0.7403\n",
            "              precision    recall  f1-score   support\n",
            "\n",
            "           0       0.78      0.84      0.81       100\n",
            "           1       0.65      0.56      0.60        54\n",
            "\n",
            "    accuracy                           0.74       154\n",
            "   macro avg       0.71      0.70      0.70       154\n",
            "weighted avg       0.73      0.74      0.73       154\n",
            "\n",
            "Training SVC...\n",
            "SVC CV accuracy: 0.7688 +/- 0.0179\n",
            "SVC Test accuracy: 0.7403\n",
            "              precision    recall  f1-score   support\n",
            "\n",
            "           0       0.78      0.84      0.81       100\n",
            "           1       0.65      0.56      0.60        54\n",
            "\n",
            "    accuracy                           0.74       154\n",
            "   macro avg       0.71      0.70      0.70       154\n",
            "weighted avg       0.73      0.74      0.73       154\n",
            "\n"
          ]
        }
      ],
      "source": [
        "models = {\n",
        "    'LogisticRegression': LogisticRegression(max_iter=1000, random_state=42),\n",
        "    'RandomForest': RandomForestClassifier(n_estimators=200, random_state=42),\n",
        "    'SVC': SVC(probability=True, random_state=42)\n",
        "}\n",
        "\n",
        "results = {}\n",
        "for name, model in models.items():\n",
        "    print(f'Training {name}...')\n",
        "    # simple cross-val\n",
        "    scores = cross_val_score(model, X_train_scaled, y_train, cv=5, scoring='accuracy')\n",
        "    print(f'{name} CV accuracy: {scores.mean():.4f} +/- {scores.std():.4f}')\n",
        "    model.fit(X_train_scaled, y_train)\n",
        "    preds = model.predict(X_test_scaled)\n",
        "    acc = accuracy_score(y_test, preds)\n",
        "    print(f'{name} Test accuracy: {acc:.4f}')\n",
        "    results[name] = {'model': model, 'cv_mean': scores.mean(), 'test_acc': acc}\n",
        "    print(classification_report(y_test, preds))\n"
      ]
    },
    {
      "cell_type": "markdown",
      "metadata": {
        "id": "2Ls3BltX2xPF"
      },
      "source": [
        "9. Choose best model by test accuracy"
      ]
    },
    {
      "cell_type": "code",
      "execution_count": 17,
      "metadata": {
        "colab": {
          "base_uri": "https://localhost:8080/"
        },
        "id": "UcsEZ74Z26Zl",
        "outputId": "6aaa4f32-cde4-4ffd-f13d-d28f44f9852e"
      },
      "outputs": [
        {
          "name": "stdout",
          "output_type": "stream",
          "text": [
            "Best model: RandomForest with test accuracy 0.7402597402597403\n"
          ]
        }
      ],
      "source": [
        "best_name = max(results.keys(), key=lambda k: results[k]['test_acc'])\n",
        "best_model = results[best_name]['model']\n",
        "print('Best model:', best_name, 'with test accuracy', results[best_name]['test_acc'])\n"
      ]
    },
    {
      "cell_type": "markdown",
      "metadata": {
        "id": "LXF6ipoV294G"
      },
      "source": [
        "10. Save model and scaler"
      ]
    },
    {
      "cell_type": "code",
      "execution_count": 18,
      "metadata": {
        "colab": {
          "base_uri": "https://localhost:8080/"
        },
        "id": "EDwNKUva3BjW",
        "outputId": "b22da6b0-7acd-44c0-a6b5-bcf83d8dc8d5"
      },
      "outputs": [
        {
          "name": "stdout",
          "output_type": "stream",
          "text": [
            "Saved model to model.pkl and scaler to scaler.pkl\n"
          ]
        }
      ],
      "source": [
        "with open('model.pkl', 'wb') as f:\n",
        "    pickle.dump(best_model, f)\n",
        "\n",
        "with open('scaler.pkl', 'wb') as f:\n",
        "    pickle.dump(scaler, f)\n",
        "\n",
        "print('Saved model to model.pkl and scaler to scaler.pkl')"
      ]
    },
    {
      "cell_type": "code",
      "execution_count": 19,
      "metadata": {
        "colab": {
          "base_uri": "https://localhost:8080/"
        },
        "id": "4PTRYn243M73",
        "outputId": "d55dafe0-1e12-4ae2-d1e1-a9d9d573de64"
      },
      "outputs": [
        {
          "name": "stdout",
          "output_type": "stream",
          "text": [
            "Saved model_results.json\n"
          ]
        }
      ],
      "source": [
        "# Optional: save results summary\n",
        "import json\n",
        "summary = {k: {'cv_mean': float(v['cv_mean']), 'test_acc': float(v['test_acc'])} for k, v in results.items()}\n",
        "with open('model_results.json', 'w') as f:\n",
        "    json.dump(summary, f, indent=2)\n",
        "print('Saved model_results.json')"
      ]
    }
  ],
  "metadata": {
    "colab": {
      "provenance": []
    },
    "kernelspec": {
      "display_name": "Python 3",
      "name": "python3"
    },
    "language_info": {
      "name": "python"
    }
  },
  "nbformat": 4,
  "nbformat_minor": 0
}
